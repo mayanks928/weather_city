{
 "cells": [
  {
   "cell_type": "code",
   "execution_count": 18,
   "metadata": {},
   "outputs": [],
   "source": [
    "import requests\n",
    "import json"
   ]
  },
  {
   "cell_type": "code",
   "execution_count": 19,
   "metadata": {},
   "outputs": [
    {
     "name": "stdout",
     "output_type": "stream",
     "text": [
      "Weather for  Thane  :\n",
      "Weather=Drizzle\n",
      "Temperature=26.96\n",
      "Temperature: Min=26.92 Max=26.96\n",
      "Pressure=998\n",
      "Humidity=94\n"
     ]
    }
   ],
   "source": [
    "city=input(\"Enter City name:\")\n",
    "\n",
    "base_url1=\"http://api.openweathermap.org/geo/1.0/direct\"\n",
    "params1={\"appid\":api_key,\"q\":city}\n",
    "res1=requests.get(base_url1,params1)\n",
    "res1_string=json.loads(res1.text)\n",
    "lat,lon=res1_string[0]['lat'],res1_string[0]['lon']\n",
    "\n",
    "base_url2=\"https://api.openweathermap.org/data/2.5/weather\"\n",
    "params2={\"appid\":api_key,\"lat\":lat,\"lon\":lon,\"units\":\"metric\"}\n",
    "res2=requests.get(base_url2,params2)\n",
    "res2_string=json.loads(res2.text)\n",
    "\n",
    "temp=res2_string[\"main\"][\"temp\"]\n",
    "temp_min=res2_string[\"main\"][\"temp_min\"]\n",
    "temp_max=res2_string[\"main\"][\"temp_max\"]\n",
    "pressure=res2_string[\"main\"][\"pressure\"]\n",
    "humidity=res2_string[\"main\"][\"humidity\"]\n",
    "weather=res2_string[\"weather\"][0][\"main\"]\n",
    "\n",
    "print(\"Weather for \",city,\" :\")\n",
    "print(\"Weather={}\\nTemperature={}\\nTemperature: Min={} Max={}\\nPressure={}\\nHumidity={}\".format(weather,temp,temp_min,temp_max,pressure,humidity))"
   ]
  }
 ],
 "metadata": {
  "kernelspec": {
   "display_name": "Python 3.10.1 64-bit",
   "language": "python",
   "name": "python3"
  },
  "language_info": {
   "codemirror_mode": {
    "name": "ipython",
    "version": 3
   },
   "file_extension": ".py",
   "mimetype": "text/x-python",
   "name": "python",
   "nbconvert_exporter": "python",
   "pygments_lexer": "ipython3",
   "version": "3.10.1"
  },
  "orig_nbformat": 4,
  "vscode": {
   "interpreter": {
    "hash": "369f2c481f4da34e4445cda3fffd2e751bd1c4d706f27375911949ba6bb62e1c"
   }
  }
 },
 "nbformat": 4,
 "nbformat_minor": 2
}
